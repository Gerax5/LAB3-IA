{
 "cells": [
  {
   "cell_type": "markdown",
   "metadata": {},
   "source": [
    "# TASK 1"
   ]
  },
  {
   "cell_type": "markdown",
   "metadata": {},
   "source": [
    "## Describa la arquitectura y el funcionamiento de un perceptrón de una sola capa (un tipo de red neuronal sin backpropagation). Explique cómo aprende y la forma en la que actualiza sus parámetros."
   ]
  },
  {
   "cell_type": "markdown",
   "metadata": {},
   "source": [
    "### Arquitectura\n",
    "El perceptron de una sola capa tiene como arquitectura:\n",
    "* Tiene datos de entrada: (x_1,x_2,...,x_n)\n",
    "* El peso asociado con su entrada: (w_1,w_2,...,w_n)\n",
    "* la funcion de activacion f(x), que es la encargada de decidir la salida dependiendo de la suma ponderada\n",
    "* y la salida (y)\n",
    "### Como aprende\n",
    "Primero se incian los pezos en aleatorio o en 0, se utiliza cada muestra de entrenamiento con su salida real y predicha para actualizar los pesos. Lo que hace para aprende es ajustar los pesos y el bias, asi sucesivamnete hasta que se terminen las iteraciones o el error se minimice."
   ]
  }
 ],
 "metadata": {
  "language_info": {
   "name": "python"
  }
 },
 "nbformat": 4,
 "nbformat_minor": 2
}
